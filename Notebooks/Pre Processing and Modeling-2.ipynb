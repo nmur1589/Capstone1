{
 "cells": [
  {
   "cell_type": "code",
   "execution_count": 240,
   "metadata": {},
   "outputs": [],
   "source": [
    "#Import Clean data set from Data Cleaning notebook\n",
    "import os\n",
    "import pandas as pd\n",
    "import numpy as np\n",
    "import seaborn as sns\n",
    "import matplotlib.pyplot as plt\n",
    "from math import sqrt\n",
    "\n",
    "from sklearn import preprocessing\n",
    "from sklearn.model_selection import train_test_split\n",
    "from sklearn import linear_model\n",
    "from sklearn.metrics import explained_variance_score,mean_absolute_error, mean_squared_error, r2_score\n",
    "os.chdir(r'C:\\Users\\nmur1\\Google Drive\\Springboard\\Capstone 1\\CleanData')\n",
    "\n",
    "df = pd.read_csv('modeling.csv',index_col = 0)"
   ]
  },
  {
   "cell_type": "markdown",
   "metadata": {},
   "source": [
    "## Final Data Cleaning that I Missed in the Other Stages"
   ]
  },
  {
   "cell_type": "code",
   "execution_count": 241,
   "metadata": {},
   "outputs": [
    {
     "data": {
      "text/html": [
       "<div>\n",
       "<style scoped>\n",
       "    .dataframe tbody tr th:only-of-type {\n",
       "        vertical-align: middle;\n",
       "    }\n",
       "\n",
       "    .dataframe tbody tr th {\n",
       "        vertical-align: top;\n",
       "    }\n",
       "\n",
       "    .dataframe thead th {\n",
       "        text-align: right;\n",
       "    }\n",
       "</style>\n",
       "<table border=\"1\" class=\"dataframe\">\n",
       "  <thead>\n",
       "    <tr style=\"text-align: right;\">\n",
       "      <th></th>\n",
       "      <th>percent</th>\n",
       "    </tr>\n",
       "  </thead>\n",
       "  <tbody>\n",
       "    <tr>\n",
       "      <th>Industry</th>\n",
       "      <td>0.075658</td>\n",
       "    </tr>\n",
       "    <tr>\n",
       "      <th>Sector</th>\n",
       "      <td>0.075658</td>\n",
       "    </tr>\n",
       "    <tr>\n",
       "      <th>HSAFRAL</th>\n",
       "      <td>0.069901</td>\n",
       "    </tr>\n",
       "    <tr>\n",
       "      <th>CEOAge</th>\n",
       "      <td>0.059211</td>\n",
       "    </tr>\n",
       "    <tr>\n",
       "      <th>CEOGender</th>\n",
       "      <td>0.023026</td>\n",
       "    </tr>\n",
       "  </tbody>\n",
       "</table>\n",
       "</div>"
      ],
      "text/plain": [
       "            percent\n",
       "Industry   0.075658\n",
       "Sector     0.075658\n",
       "HSAFRAL    0.069901\n",
       "CEOAge     0.059211\n",
       "CEOGender  0.023026"
      ]
     },
     "execution_count": 241,
     "metadata": {},
     "output_type": "execute_result"
    }
   ],
   "source": [
    "#whoops still have a few N/A Falues.\n",
    "nas=pd.DataFrame(df.isnull().sum().sort_values(ascending=False)/len(df),columns = ['percent'])\n",
    "pos = nas['percent'] > 0\n",
    "nas[pos]"
   ]
  },
  {
   "cell_type": "code",
   "execution_count": 242,
   "metadata": {},
   "outputs": [
    {
     "data": {
      "text/html": [
       "<div>\n",
       "<style scoped>\n",
       "    .dataframe tbody tr th:only-of-type {\n",
       "        vertical-align: middle;\n",
       "    }\n",
       "\n",
       "    .dataframe tbody tr th {\n",
       "        vertical-align: top;\n",
       "    }\n",
       "\n",
       "    .dataframe thead th {\n",
       "        text-align: right;\n",
       "    }\n",
       "</style>\n",
       "<table border=\"1\" class=\"dataframe\">\n",
       "  <thead>\n",
       "    <tr style=\"text-align: right;\">\n",
       "      <th></th>\n",
       "      <th>percent</th>\n",
       "    </tr>\n",
       "  </thead>\n",
       "  <tbody>\n",
       "  </tbody>\n",
       "</table>\n",
       "</div>"
      ],
      "text/plain": [
       "Empty DataFrame\n",
       "Columns: [percent]\n",
       "Index: []"
      ]
     },
     "execution_count": 242,
     "metadata": {},
     "output_type": "execute_result"
    }
   ],
   "source": [
    "\n",
    "df.HSAFRAL.fillna((df['HSAFRAL'].mean()), inplace = True )\n",
    "df.CEOAge.fillna((df['CEOAge'].mean()), inplace = True )\n",
    "df.CEOGender.fillna('male', inplace = True )\n",
    "df.Sector.fillna('Other', inplace = True )\n",
    "df.Industry.fillna('Other', inplace = True)\n",
    "nas=pd.DataFrame(df.isnull().sum().sort_values(ascending=False)/len(df),columns = ['percent'])\n",
    "pos = nas['percent'] > 0\n",
    "nas[pos]\n"
   ]
  },
  {
   "cell_type": "code",
   "execution_count": 243,
   "metadata": {},
   "outputs": [
    {
     "data": {
      "text/plain": [
       "119"
      ]
     },
     "execution_count": 243,
     "metadata": {},
     "output_type": "execute_result"
    }
   ],
   "source": [
    "df['Industry'].nunique()"
   ]
  },
  {
   "cell_type": "code",
   "execution_count": 244,
   "metadata": {},
   "outputs": [
    {
     "data": {
      "text/plain": [
       "male       1089\n",
       "female       65\n",
       "unknown      62\n",
       "Name: CEOGender, dtype: int64"
      ]
     },
     "execution_count": 244,
     "metadata": {},
     "output_type": "execute_result"
    }
   ],
   "source": [
    "df.CEOGender.value_counts()"
   ]
  },
  {
   "cell_type": "code",
   "execution_count": 245,
   "metadata": {},
   "outputs": [],
   "source": [
    "#drop the year off my quarter column to limit to 4 distint values, Q1, Q2, Q3, Q4\n",
    "df.FQ = df.FQ.apply(lambda x: str(x[0]))"
   ]
  },
  {
   "cell_type": "markdown",
   "metadata": {},
   "source": [
    "# Data Definitions\n",
    "\n",
    "### The following table defines the fields in my modeling set. My Y (or prediction) variable will be the stock's price change between trading days 0 to 260 (approx 1 year after the IPO date).\n",
    "\n",
    "* Day 0 of trading represents the day the company IPO'd\n",
    "* Day 260 is approximately 1 year afetr the IPO date. Note: it's not 365 due to holidays, weekends, and other days the stock market is closed. \n",
    "\n",
    "|Field        | Definition                                               | Source                               |\n",
    "|:--------------|:----------------------------------------------------------|:--------------------------------------|\n",
    "| Symbol       | Stock ticker symbol                                      | Original Kaggle Set                  |\n",
    "| Month        | Month of IPO date                                        | Original Kaggle Set                  |\n",
    "| Day          | Day (date) of IPO date                                   | Original Kaggle Set                  |\n",
    "| Year         | Year of IPO date                                         | Original Kaggle Set                  |\n",
    "| CEOGender    | CEO Gender                                               | Original Kaggle Set                  |\n",
    "| Industry     | Company Industry                                         | Original Kaggle Set                  |\n",
    "| Sector       | Company Sector                                           | Original Kaggle Set                  |\n",
    "| CEOAge       | CEO Age                                                  | Original Kaggle Set                  |\n",
    "| DayofWeek    | Day of week (Mon - Friday) of the IPO Date               | Original Kaggle Set                  |\n",
    "| FQ           | Fiscal Quarter of IPO Date                               | Original Kaggle Set                  |\n",
    "| GDP          | Total GDP for the Quarter of the IPO                     | Federal Reserve Economic Data (FRED) |\n",
    "| GDP Growh    | Rolling 4 Quarter GDP Growth for the Quarter of IPO      | Federal Reserve Economic Data (FRED) |\n",
    "| FEDFUNDS     | Fed Funds Interest Rate for Quarter of IPO               | Federal Reserve Economic Data (FRED) |\n",
    "| UNRATE       | Unemployment rate for Quarter of IPO                     | Federal Reserve Economic Data (FRED) |\n",
    "| UMCSENT      | Univ of Mich Consumer Sentiment Score for Quarter of IPO | Federal Reserve Economic Data (FRED) |\n",
    "| PE_Ratio     | Average S&P 500 PE Ratio for Quarter of IPO              | Quandl S&P 500 API                   |\n",
    "| SP_Value     | Gross S&P Value for Quarter of IPO                       | Quandl S&P 500 API                   |\n",
    "| SP500 Growth | Rolling 4 Quarter S&P 500 Growh for Quarter of IPO       | Quandl S&P 500 API                   |\n",
    "| HSAFRAL      | Homes sold as foreclosure for Quarter of IPO             | Quandl Zillow API                    |\n",
    "| HPI          | Freddie Mac Housing Pricing Index for Quarter of IPO     | Quandl Freddie MAC API               |\n",
    "| 0 to 65      | Stock price change. Trading days: 0 to 65                | Original Kaggle Set                  |\n",
    "| 65 to 130    | Stock price change. Trading days: 65 to 130              | Original Kaggle Set                  |\n",
    "| 130 to 195   | Stock price change. Trading days: 130 to 195             | Original Kaggle Set                  |\n",
    "| 195 to 260   | Stock price change. Trading days: 195 to 260             | Original Kaggle Set                  |\n",
    "| 0 to 260     | PREDICT VARIABLE Stock price change. Trading days: 0 to 260               | Original Kaggle Set                  |\n",
    "| 0 to 30      | Stock price change. Trading days: 0 to 30                | Original Kaggle Set                  |\n",
    "| 30 to 65     | Stock price change. Trading days: 30 to 65               | Original Kaggle Set                  |"
   ]
  },
  {
   "cell_type": "markdown",
   "metadata": {},
   "source": [
    "### I'll start with writing two re-usable functions that will be used throughout\n",
    "\n",
    "* The **'dummy'** function takes in a dataframe and a list of of variables I want to exclude from conversion. The output is a new dataframe with categorical/object variables converted into dummy variables\n",
    "<br><br>\n",
    "* My **'LinearModel'** class leverages the linear regression models in the SciKit-Learn package. Initiate the class with the following inputs:\n",
    "<br><br>\n",
    "    * df: Dataframe to be used for modeling\n",
    "    * xvar: A list of dataframe fields to exclude from your X axis\n",
    "    * yvar: your dependant/y variable. What you are trying to predict\n",
    "    * tsize: the test train split size. I.e. enter .25 if you want a 75/25 split\n",
    "<br><br>\n",
    "* The class runs the typical series of steps when modeling in lienar regression including:\n",
    "    * Scaling X values\n",
    "    * creating a train/test split\n",
    "    * fitting and predicting the model\n",
    "    * calculating the intercept\n",
    "    * error scoring using rmse, mae, evs, and r squared metrics\n",
    "    * defining coefficients for dependant variables"
   ]
  },
  {
   "cell_type": "code",
   "execution_count": 246,
   "metadata": {},
   "outputs": [],
   "source": [
    "#write a function to get my dummy variables \n",
    "\n",
    "def dummy(df, exclude):\n",
    "    \n",
    "    objects = df.select_dtypes(include=['object'])\n",
    "    \n",
    "    for col in objects.columns:\n",
    "    \n",
    "        if col not in exclude:\n",
    "    \n",
    "            df_dummy = df[[col]]\n",
    "            df = pd.concat([df.drop(df_dummy, axis = 1), pd.get_dummies(df_dummy)], axis =1)\n",
    "\n",
    "    return df"
   ]
  },
  {
   "cell_type": "code",
   "execution_count": 247,
   "metadata": {},
   "outputs": [],
   "source": [
    "#write a class function for my linear model to quickly reuse\n",
    "\n",
    "class LinearModel:\n",
    "    \n",
    "    def __init__(self, df, xvar, yvar, tsize):\n",
    "        \n",
    "        #define class variables\n",
    "        self.df = df\n",
    "        self.xvar = xvar\n",
    "        self.yvar = yvar\n",
    "        self.tsize = tsize\n",
    "    \n",
    "        #convert X and Y axises for modeling\n",
    "        self.X = self.df.drop(self.xvar, axis = 1)\n",
    "        self.y = self.df[self.yvar].ravel()\n",
    "    \n",
    "        #scale X\n",
    "        self.scaler = preprocessing.StandardScaler().fit(self.X)\n",
    "        self.X_scaled =  self.scaler.transform(self.X)\n",
    "        \n",
    "        #split train\n",
    "        self.X_train, self.X_test, self.y_train, self.y_test = \\\n",
    "            train_test_split(self.X_scaled, self.y, test_size = self.tsize, random_state = 1)\n",
    "        \n",
    "        \n",
    "        #prediction and intercepts\n",
    "        self.lm = linear_model.LinearRegression()\n",
    "        model = self.lm.fit(self.X_train, self.y_train)\n",
    "        self.y_pred = model.predict(self.X_test)\n",
    "        self.inter = self.lm.intercept_\n",
    "        \n",
    "        #error scoring\n",
    "        self.rmse = sqrt(mean_squared_error(self.y_test, self.y_pred))\n",
    "        self.mae = mean_absolute_error(self.y_test, self.y_pred)\n",
    "        self.evs = explained_variance_score(self.y_test, self.y_pred)\n",
    "        self.r2 = r2_score(self.y_test, self.y_pred)\n",
    "\n",
    "    #coefficient table\n",
    "    def coefficients(self):\n",
    "        \n",
    "        coef = np.round(self.lm.coef_,2)\n",
    "        df = pd.DataFrame(abs(coef), self.X.columns, columns=['Coefficient']).sort_values(by='Coefficient', ascending = False)\n",
    "        \n",
    "        return df\n",
    "    \n",
    "    #table to compare predicted values against test values\n",
    "    def compdf(self):\n",
    "        df = pd.DataFrame({'Actual':self.y_test, 'Predicted': self.y_pred}, columns = ['Actual','Predicted'])\n",
    "        return df\n",
    "\n"
   ]
  },
  {
   "cell_type": "markdown",
   "metadata": {},
   "source": [
    "### My First Dataset will remove day, year, industry"
   ]
  },
  {
   "cell_type": "code",
   "execution_count": 248,
   "metadata": {},
   "outputs": [],
   "source": [
    "#Day and Year are irrelevant\n",
    "#Industry has 119 unique values too many dummy variables when I imported into my model.\n",
    "\n",
    "Quarterly = df\n",
    "\n",
    "\n",
    "to_drop = ['Day', 'Year', 'Industry']\n",
    "\n",
    "\n",
    "for col in to_drop:\n",
    "    \n",
    "    try:\n",
    "        Quarterly = Quarterly.drop(columns = [col])\n",
    "    except:\n",
    "        Quarterly = Quarterly\n",
    "    \n",
    "Quarterly.Month = Quarterly.Month.astype('object')\n"
   ]
  },
  {
   "cell_type": "code",
   "execution_count": 249,
   "metadata": {},
   "outputs": [
    {
     "data": {
      "text/html": [
       "<div>\n",
       "<style scoped>\n",
       "    .dataframe tbody tr th:only-of-type {\n",
       "        vertical-align: middle;\n",
       "    }\n",
       "\n",
       "    .dataframe tbody tr th {\n",
       "        vertical-align: top;\n",
       "    }\n",
       "\n",
       "    .dataframe thead th {\n",
       "        text-align: right;\n",
       "    }\n",
       "</style>\n",
       "<table border=\"1\" class=\"dataframe\">\n",
       "  <thead>\n",
       "    <tr style=\"text-align: right;\">\n",
       "      <th></th>\n",
       "      <th>Coefficient</th>\n",
       "    </tr>\n",
       "  </thead>\n",
       "  <tbody>\n",
       "    <tr>\n",
       "      <th>FQ_1</th>\n",
       "      <td>6.525023e+13</td>\n",
       "    </tr>\n",
       "    <tr>\n",
       "      <th>Month_7</th>\n",
       "      <td>4.630260e+13</td>\n",
       "    </tr>\n",
       "    <tr>\n",
       "      <th>CEOGender_male</th>\n",
       "      <td>4.486522e+13</td>\n",
       "    </tr>\n",
       "    <tr>\n",
       "      <th>Month_8</th>\n",
       "      <td>4.188670e+13</td>\n",
       "    </tr>\n",
       "    <tr>\n",
       "      <th>Month_9</th>\n",
       "      <td>4.067897e+13</td>\n",
       "    </tr>\n",
       "    <tr>\n",
       "      <th>CEOGender_female</th>\n",
       "      <td>3.299805e+13</td>\n",
       "    </tr>\n",
       "    <tr>\n",
       "      <th>FQ_3</th>\n",
       "      <td>3.294737e+13</td>\n",
       "    </tr>\n",
       "    <tr>\n",
       "      <th>DayofWeek_Thur</th>\n",
       "      <td>3.284721e+13</td>\n",
       "    </tr>\n",
       "    <tr>\n",
       "      <th>Month_6</th>\n",
       "      <td>3.282296e+13</td>\n",
       "    </tr>\n",
       "    <tr>\n",
       "      <th>CEOGender_unknown</th>\n",
       "      <td>3.226954e+13</td>\n",
       "    </tr>\n",
       "  </tbody>\n",
       "</table>\n",
       "</div>"
      ],
      "text/plain": [
       "                    Coefficient\n",
       "FQ_1               6.525023e+13\n",
       "Month_7            4.630260e+13\n",
       "CEOGender_male     4.486522e+13\n",
       "Month_8            4.188670e+13\n",
       "Month_9            4.067897e+13\n",
       "CEOGender_female   3.299805e+13\n",
       "FQ_3               3.294737e+13\n",
       "DayofWeek_Thur     3.284721e+13\n",
       "Month_6            3.282296e+13\n",
       "CEOGender_unknown  3.226954e+13"
      ]
     },
     "execution_count": 249,
     "metadata": {},
     "output_type": "execute_result"
    }
   ],
   "source": [
    "#run my first model using the dummy function and LinearModel Class I wrote\n",
    "\n",
    "model1 = dummy(Quarterly, ['Symbol'])\n",
    "\n",
    "xvar = ['Symbol', '0 to 260']\n",
    "yvar = '0 to 260'\n",
    "\n",
    "m1 = LinearModel(model1, xvar, yvar, .25)\n",
    "score1 = [m1.rmse, m1.mae, m1.evs, m1.r2]\n",
    "\n",
    "coef1 = m1.coefficients()\n",
    "coef1.head(10)"
   ]
  },
  {
   "cell_type": "markdown",
   "metadata": {},
   "source": [
    "### The month of the IPO and the CEO Gender are in the top 10 coefficients. Overall I feel these are adding noise to the data and will drop them below"
   ]
  },
  {
   "cell_type": "code",
   "execution_count": 250,
   "metadata": {},
   "outputs": [],
   "source": [
    "# add the desired columns to drop to the list and create a second dataframe - model2\n",
    "to_drop = ['Day', 'Year', 'Industry', 'Month', 'CEOGender', 'Month']\n",
    "\n",
    "for col in to_drop:\n",
    "    \n",
    "    try:\n",
    "        Quarterly = Quarterly.drop(columns = [col])\n",
    "    except:\n",
    "        Quarterly = Quarterly\n",
    "    \n",
    "\n"
   ]
  },
  {
   "cell_type": "code",
   "execution_count": 251,
   "metadata": {},
   "outputs": [
    {
     "data": {
      "text/html": [
       "<div>\n",
       "<style scoped>\n",
       "    .dataframe tbody tr th:only-of-type {\n",
       "        vertical-align: middle;\n",
       "    }\n",
       "\n",
       "    .dataframe tbody tr th {\n",
       "        vertical-align: top;\n",
       "    }\n",
       "\n",
       "    .dataframe thead th {\n",
       "        text-align: right;\n",
       "    }\n",
       "</style>\n",
       "<table border=\"1\" class=\"dataframe\">\n",
       "  <thead>\n",
       "    <tr style=\"text-align: right;\">\n",
       "      <th></th>\n",
       "      <th>Coefficient</th>\n",
       "    </tr>\n",
       "  </thead>\n",
       "  <tbody>\n",
       "    <tr>\n",
       "      <th>65 to 130</th>\n",
       "      <td>17.27</td>\n",
       "    </tr>\n",
       "    <tr>\n",
       "      <th>130 to 195</th>\n",
       "      <td>17.05</td>\n",
       "    </tr>\n",
       "    <tr>\n",
       "      <th>195 to 260</th>\n",
       "      <td>16.03</td>\n",
       "    </tr>\n",
       "    <tr>\n",
       "      <th>0 to 65</th>\n",
       "      <td>14.31</td>\n",
       "    </tr>\n",
       "    <tr>\n",
       "      <th>GDP</th>\n",
       "      <td>7.73</td>\n",
       "    </tr>\n",
       "    <tr>\n",
       "      <th>SP_Value</th>\n",
       "      <td>4.06</td>\n",
       "    </tr>\n",
       "    <tr>\n",
       "      <th>HPI</th>\n",
       "      <td>3.38</td>\n",
       "    </tr>\n",
       "    <tr>\n",
       "      <th>30 to 65</th>\n",
       "      <td>2.38</td>\n",
       "    </tr>\n",
       "    <tr>\n",
       "      <th>0 to 30</th>\n",
       "      <td>2.11</td>\n",
       "    </tr>\n",
       "    <tr>\n",
       "      <th>UNRATE</th>\n",
       "      <td>1.46</td>\n",
       "    </tr>\n",
       "  </tbody>\n",
       "</table>\n",
       "</div>"
      ],
      "text/plain": [
       "            Coefficient\n",
       "65 to 130         17.27\n",
       "130 to 195        17.05\n",
       "195 to 260        16.03\n",
       "0 to 65           14.31\n",
       "GDP                7.73\n",
       "SP_Value           4.06\n",
       "HPI                3.38\n",
       "30 to 65           2.38\n",
       "0 to 30            2.11\n",
       "UNRATE             1.46"
      ]
     },
     "execution_count": 251,
     "metadata": {},
     "output_type": "execute_result"
    }
   ],
   "source": [
    "#rerun model using m2 as the variable\n",
    "model2 = dummy(Quarterly, ['Symbol'])\n",
    "xvar = ['Symbol', '0 to 260']\n",
    "yvar = '0 to 260'\n",
    "\n",
    "m2 = LinearModel(model2, xvar, yvar, .25)\n",
    "score2 = [m2.rmse, m2.mae, m2.evs, m2.r2]\n",
    "\n",
    "coef2 = m2.coefficients()\n",
    "coef2.head(10)"
   ]
  },
  {
   "cell_type": "markdown",
   "metadata": {},
   "source": [
    "* My new coefficients make more sense now. I'd expect to see several of the macroeconomic indicators such as GDP, S&P500 values, HPI, and the pricing changes for the stock itself to show up\n",
    "<br><br>\n",
    "* However, if my goal is to predict the price change from days 0 to 260 I shouldn't be using pricing changes from days 195 to 260 as inputs. I would want to be able to input all available data as soon as possible - by day 195 the year is almost over.\n",
    "<br><br>\n",
    "* In my next run I'll remove price changes: 65 to 130, 130 to 195, and 195 to 260. I'll keep 0 to 30, 30 to 65, and 0 to 65. These inputs would still allow me to evaluate an IPO and make a buy decision within the first Quarter of the IPO date\n"
   ]
  },
  {
   "cell_type": "code",
   "execution_count": 252,
   "metadata": {},
   "outputs": [],
   "source": [
    "# add the desired columns to drop to the list and create a third dataframe - model3\n",
    "to_drop = ['Day', 'Year', 'Industry', 'Month', 'CEOGender', 'Month', '65 to 130', '130 to 195', '195 to 260']\n",
    "for col in to_drop:\n",
    "    \n",
    "    try:\n",
    "        Quarterly = Quarterly.drop(columns = [col])\n",
    "    except:\n",
    "        Quarterly = Quarterly\n",
    "    \n",
    "\n"
   ]
  },
  {
   "cell_type": "code",
   "execution_count": 253,
   "metadata": {},
   "outputs": [
    {
     "data": {
      "text/html": [
       "<div>\n",
       "<style scoped>\n",
       "    .dataframe tbody tr th:only-of-type {\n",
       "        vertical-align: middle;\n",
       "    }\n",
       "\n",
       "    .dataframe tbody tr th {\n",
       "        vertical-align: top;\n",
       "    }\n",
       "\n",
       "    .dataframe thead th {\n",
       "        text-align: right;\n",
       "    }\n",
       "</style>\n",
       "<table border=\"1\" class=\"dataframe\">\n",
       "  <thead>\n",
       "    <tr style=\"text-align: right;\">\n",
       "      <th></th>\n",
       "      <th>Coefficient</th>\n",
       "    </tr>\n",
       "  </thead>\n",
       "  <tbody>\n",
       "    <tr>\n",
       "      <th>GDP</th>\n",
       "      <td>37.25</td>\n",
       "    </tr>\n",
       "    <tr>\n",
       "      <th>SP_Value</th>\n",
       "      <td>26.07</td>\n",
       "    </tr>\n",
       "    <tr>\n",
       "      <th>HPI</th>\n",
       "      <td>17.76</td>\n",
       "    </tr>\n",
       "    <tr>\n",
       "      <th>0 to 65</th>\n",
       "      <td>10.83</td>\n",
       "    </tr>\n",
       "    <tr>\n",
       "      <th>UNRATE</th>\n",
       "      <td>10.25</td>\n",
       "    </tr>\n",
       "    <tr>\n",
       "      <th>0 to 30</th>\n",
       "      <td>6.15</td>\n",
       "    </tr>\n",
       "    <tr>\n",
       "      <th>HSAFRAL</th>\n",
       "      <td>5.70</td>\n",
       "    </tr>\n",
       "    <tr>\n",
       "      <th>30 to 65</th>\n",
       "      <td>5.24</td>\n",
       "    </tr>\n",
       "    <tr>\n",
       "      <th>Sector_Health Care</th>\n",
       "      <td>3.40</td>\n",
       "    </tr>\n",
       "    <tr>\n",
       "      <th>Sector_Finance</th>\n",
       "      <td>2.76</td>\n",
       "    </tr>\n",
       "  </tbody>\n",
       "</table>\n",
       "</div>"
      ],
      "text/plain": [
       "                    Coefficient\n",
       "GDP                       37.25\n",
       "SP_Value                  26.07\n",
       "HPI                       17.76\n",
       "0 to 65                   10.83\n",
       "UNRATE                    10.25\n",
       "0 to 30                    6.15\n",
       "HSAFRAL                    5.70\n",
       "30 to 65                   5.24\n",
       "Sector_Health Care         3.40\n",
       "Sector_Finance             2.76"
      ]
     },
     "execution_count": 253,
     "metadata": {},
     "output_type": "execute_result"
    }
   ],
   "source": [
    "#rerun through my regression class\n",
    "\n",
    "model3 = dummy(Quarterly, ['Symbol'])\n",
    "xvar = ['Symbol', '0 to 260']\n",
    "yvar = '0 to 260'\n",
    "\n",
    "m3 = LinearModel(model3, xvar, yvar, .25)\n",
    "score3 = [m3.rmse, m3.mae, m3.evs, m3.r2]\n",
    "\n",
    "coef3 = m3.coefficients()\n",
    "coef3.head(10)\n"
   ]
  },
  {
   "cell_type": "markdown",
   "metadata": {},
   "source": [
    "### Finally I'll compare the error scores from each odel and determine next steps"
   ]
  },
  {
   "cell_type": "code",
   "execution_count": 254,
   "metadata": {
    "scrolled": true
   },
   "outputs": [
    {
     "data": {
      "text/html": [
       "<div>\n",
       "<style scoped>\n",
       "    .dataframe tbody tr th:only-of-type {\n",
       "        vertical-align: middle;\n",
       "    }\n",
       "\n",
       "    .dataframe tbody tr th {\n",
       "        vertical-align: top;\n",
       "    }\n",
       "\n",
       "    .dataframe thead th {\n",
       "        text-align: right;\n",
       "    }\n",
       "</style>\n",
       "<table border=\"1\" class=\"dataframe\">\n",
       "  <thead>\n",
       "    <tr style=\"text-align: right;\">\n",
       "      <th></th>\n",
       "      <th>metrics</th>\n",
       "      <th>m1</th>\n",
       "      <th>m2</th>\n",
       "      <th>m3</th>\n",
       "    </tr>\n",
       "  </thead>\n",
       "  <tbody>\n",
       "    <tr>\n",
       "      <th>0</th>\n",
       "      <td>rmse</td>\n",
       "      <td>8.587441</td>\n",
       "      <td>8.456645</td>\n",
       "      <td>32.365504</td>\n",
       "    </tr>\n",
       "    <tr>\n",
       "      <th>1</th>\n",
       "      <td>mae</td>\n",
       "      <td>5.536138</td>\n",
       "      <td>5.473787</td>\n",
       "      <td>23.051205</td>\n",
       "    </tr>\n",
       "    <tr>\n",
       "      <th>2</th>\n",
       "      <td>evs</td>\n",
       "      <td>0.947843</td>\n",
       "      <td>0.949421</td>\n",
       "      <td>0.262373</td>\n",
       "    </tr>\n",
       "    <tr>\n",
       "      <th>3</th>\n",
       "      <td>r2</td>\n",
       "      <td>0.947843</td>\n",
       "      <td>0.949420</td>\n",
       "      <td>0.259115</td>\n",
       "    </tr>\n",
       "  </tbody>\n",
       "</table>\n",
       "</div>"
      ],
      "text/plain": [
       "  metrics        m1        m2         m3\n",
       "0    rmse  8.587441  8.456645  32.365504\n",
       "1     mae  5.536138  5.473787  23.051205\n",
       "2     evs  0.947843  0.949421   0.262373\n",
       "3      r2  0.947843  0.949420   0.259115"
      ]
     },
     "execution_count": 254,
     "metadata": {},
     "output_type": "execute_result"
    }
   ],
   "source": [
    "#compare modeling scores in data frame\n",
    "\n",
    "metrics = ['rmse', 'mae', 'evs', 'r2']\n",
    "scores = dict(metrics = metrics, m1 = score1, m2= score2, m3 = score3)\n",
    "pd.DataFrame(scores)"
   ]
  },
  {
   "cell_type": "markdown",
   "metadata": {},
   "source": [
    "# Conclusion/Next Steps"
   ]
  },
  {
   "cell_type": "markdown",
   "metadata": {},
   "source": [
    "* **Model 1 and Model 2** yielded similar error results. The root mean squared error was approx 8.5 points. This interpretation indicates that given all the required inputs, I could predict a new company's 1 year price change from their IPO date within +/- 8.5%. In other words, if the model predicted a 30% price increase, I could reasonably expect the range to fall between 21.5% and 38.5%. In this case I would be very confident in investing in the stock.\n",
    "<br><br>\n",
    "* Unfortunately **Models 1 and 2** are inherently flawed. The stock's price change data between days 65 to 130, 130 to 195, and 195 to 260 are among the independant variables used. An investor could NOT reasonably use these as inputs into the model. The goal is to predict the 1 year price at the time of the IPO – or at least within the first quarter of the IPO date. We cannot wait for data in the 2nd, 3rd, and 4th quarter in order to make the investment decision.\n",
    "<br><br>\n",
    "* In **Model 3** - when the 65 to 130, 130 to 195, and 195 to 260 price changes were removed - the accuracy dramatically declined. RMSE jumped to 32.36 points, indicating that the model’s prediction could swing +/- 32.36%. In my opinion this margin of error is too high to make an investment decision.\n",
    "<br><br>\n",
    "* The initial results and comparative differences between Models 1/2 and Model 3 can be expected. The more pricing data I feed into the model in the first year, the more accurate the prediction for a full year change will be. In an extreme example, if I input price changes for days 0 to 200, I'm sure I would get a very accurate prediction for the full year (days 0 to 260) change.\n",
    "<br><br>\n",
    "* As I continue to refine and tune the model I will need to re-evaluate the input/dependant variables. Next steps will be to:\n",
    "    * Add more pricing data/ranges in the first 60 days of trading\n",
    "    * scrape the web in an attempt to get fundamental financial data for the stocks in question"
   ]
  }
 ],
 "metadata": {
  "kernelspec": {
   "display_name": "Python 3",
   "language": "python",
   "name": "python3"
  },
  "language_info": {
   "codemirror_mode": {
    "name": "ipython",
    "version": 3
   },
   "file_extension": ".py",
   "mimetype": "text/x-python",
   "name": "python",
   "nbconvert_exporter": "python",
   "pygments_lexer": "ipython3",
   "version": "3.7.6"
  }
 },
 "nbformat": 4,
 "nbformat_minor": 4
}
